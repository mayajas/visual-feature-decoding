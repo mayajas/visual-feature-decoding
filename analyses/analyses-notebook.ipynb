{
 "cells": [
  {
   "cell_type": "markdown",
   "id": "e829711e-cce9-465c-a246-38661390f9e9",
   "metadata": {},
   "source": [
    "From [naturalscenesdataset.org](https://naturalscenesdataset.org):\n",
    "```text\n",
    "The Natural Scenes Dataset (NSD) is a large-scale fMRI dataset conducted at ultra-high-field (7T) strength at the Center of Magnetic Resonance Research (CMRR) at the University of Minnesota. The dataset consists of whole-brain, high-resolution (1.8-mm isotropic, 1.6-s sampling rate) fMRI measurements of 8 healthy adult subjects while they viewed thousands of color natural scenes over the course of 30–40 scan sessions. While viewing these images, subjects were engaged in a continuous recognition task in which they reported whether they had seen each given image at any point in the experiment. These data constitute a massive benchmark dataset for computational models of visual representation and cognition, and can support a wide range of scientific inquiry.\n",
    "```\n"
   ]
  },
  {
   "cell_type": "code",
   "execution_count": 1,
   "id": "11930af4-c9bf-4a28-b9fc-bb49be5fa481",
   "metadata": {
    "tags": []
   },
   "outputs": [],
   "source": [
    "from cloudpathlib import S3Path, S3Client\n",
    "from pathlib import Path\n",
    "\n",
    "# Set up our cache path:\n",
    "cache_path = Path('/tmp/cache')\n",
    "if not cache_path.exists():\n",
    "    cache_path.mkdir()\n",
    "\n",
    "# Create the root S3Path for the NSD:\n",
    "nsd_base_path = S3Path(\n",
    "    's3://natural-scenes-dataset/',\n",
    "    client=S3Client(\n",
    "        no_sign_request=True,\n",
    "        local_cache_dir=cache_path))"
   ]
  },
  {
   "cell_type": "code",
   "execution_count": 2,
   "id": "26cf2fac-51d5-4dcf-a984-008c821d3a64",
   "metadata": {
    "tags": []
   },
   "outputs": [],
   "source": [
    "import os\n",
    "import os.path as op\n",
    "import glob\n",
    "import nibabel as nib\n",
    "import numpy as np\n",
    "import pandas as pd\n",
    "import h5py\n",
    "\n",
    "import matplotlib.pyplot as plt\n",
    "import matplotlib.image as mpimg\n",
    "from nilearn import plotting\n",
    "\n",
    "import urllib.request, zipfile\n",
    "try:\n",
    "    from pycocotools.coco import COCO\n",
    "except ImportError as e:\n",
    "    !pip install pycocotools\n",
    "    from pycocotools.coco import COCO\n",
    "\n",
    "\n",
    "#from nsd_access import NSDAccess\n",
    "\n",
    "%matplotlib inline"
   ]
  },
  {
   "cell_type": "code",
   "execution_count": 3,
   "id": "a59797d5-6aad-40a6-a381-abfa03eba559",
   "metadata": {
    "tags": []
   },
   "outputs": [
    {
     "data": {
      "text/plain": [
       "[S3Path('s3://natural-scenes-dataset/nsddata_betas/ppdata/subj01/fsaverage/betas_fithrf_GLMdenoise_RR/lh.betas_session01.mgh'),\n",
       " S3Path('s3://natural-scenes-dataset/nsddata_betas/ppdata/subj01/fsaverage/betas_fithrf_GLMdenoise_RR/lh.betas_session02.mgh'),\n",
       " S3Path('s3://natural-scenes-dataset/nsddata_betas/ppdata/subj01/fsaverage/betas_fithrf_GLMdenoise_RR/lh.betas_session03.mgh'),\n",
       " S3Path('s3://natural-scenes-dataset/nsddata_betas/ppdata/subj01/fsaverage/betas_fithrf_GLMdenoise_RR/lh.betas_session04.mgh'),\n",
       " S3Path('s3://natural-scenes-dataset/nsddata_betas/ppdata/subj01/fsaverage/betas_fithrf_GLMdenoise_RR/lh.betas_session05.mgh'),\n",
       " S3Path('s3://natural-scenes-dataset/nsddata_betas/ppdata/subj01/fsaverage/betas_fithrf_GLMdenoise_RR/lh.betas_session06.mgh'),\n",
       " S3Path('s3://natural-scenes-dataset/nsddata_betas/ppdata/subj01/fsaverage/betas_fithrf_GLMdenoise_RR/lh.betas_session07.mgh'),\n",
       " S3Path('s3://natural-scenes-dataset/nsddata_betas/ppdata/subj01/fsaverage/betas_fithrf_GLMdenoise_RR/lh.betas_session08.mgh'),\n",
       " S3Path('s3://natural-scenes-dataset/nsddata_betas/ppdata/subj01/fsaverage/betas_fithrf_GLMdenoise_RR/lh.betas_session09.mgh'),\n",
       " S3Path('s3://natural-scenes-dataset/nsddata_betas/ppdata/subj01/fsaverage/betas_fithrf_GLMdenoise_RR/lh.betas_session10.mgh'),\n",
       " S3Path('s3://natural-scenes-dataset/nsddata_betas/ppdata/subj01/fsaverage/betas_fithrf_GLMdenoise_RR/lh.betas_session11.mgh'),\n",
       " S3Path('s3://natural-scenes-dataset/nsddata_betas/ppdata/subj01/fsaverage/betas_fithrf_GLMdenoise_RR/lh.betas_session12.mgh'),\n",
       " S3Path('s3://natural-scenes-dataset/nsddata_betas/ppdata/subj01/fsaverage/betas_fithrf_GLMdenoise_RR/lh.betas_session13.mgh'),\n",
       " S3Path('s3://natural-scenes-dataset/nsddata_betas/ppdata/subj01/fsaverage/betas_fithrf_GLMdenoise_RR/lh.betas_session14.mgh'),\n",
       " S3Path('s3://natural-scenes-dataset/nsddata_betas/ppdata/subj01/fsaverage/betas_fithrf_GLMdenoise_RR/lh.betas_session15.mgh'),\n",
       " S3Path('s3://natural-scenes-dataset/nsddata_betas/ppdata/subj01/fsaverage/betas_fithrf_GLMdenoise_RR/lh.betas_session16.mgh'),\n",
       " S3Path('s3://natural-scenes-dataset/nsddata_betas/ppdata/subj01/fsaverage/betas_fithrf_GLMdenoise_RR/lh.betas_session17.mgh'),\n",
       " S3Path('s3://natural-scenes-dataset/nsddata_betas/ppdata/subj01/fsaverage/betas_fithrf_GLMdenoise_RR/lh.betas_session18.mgh'),\n",
       " S3Path('s3://natural-scenes-dataset/nsddata_betas/ppdata/subj01/fsaverage/betas_fithrf_GLMdenoise_RR/lh.betas_session19.mgh'),\n",
       " S3Path('s3://natural-scenes-dataset/nsddata_betas/ppdata/subj01/fsaverage/betas_fithrf_GLMdenoise_RR/lh.betas_session20.mgh'),\n",
       " S3Path('s3://natural-scenes-dataset/nsddata_betas/ppdata/subj01/fsaverage/betas_fithrf_GLMdenoise_RR/lh.betas_session21.mgh'),\n",
       " S3Path('s3://natural-scenes-dataset/nsddata_betas/ppdata/subj01/fsaverage/betas_fithrf_GLMdenoise_RR/lh.betas_session22.mgh'),\n",
       " S3Path('s3://natural-scenes-dataset/nsddata_betas/ppdata/subj01/fsaverage/betas_fithrf_GLMdenoise_RR/lh.betas_session23.mgh'),\n",
       " S3Path('s3://natural-scenes-dataset/nsddata_betas/ppdata/subj01/fsaverage/betas_fithrf_GLMdenoise_RR/lh.betas_session24.mgh'),\n",
       " S3Path('s3://natural-scenes-dataset/nsddata_betas/ppdata/subj01/fsaverage/betas_fithrf_GLMdenoise_RR/lh.betas_session25.mgh'),\n",
       " S3Path('s3://natural-scenes-dataset/nsddata_betas/ppdata/subj01/fsaverage/betas_fithrf_GLMdenoise_RR/lh.betas_session26.mgh'),\n",
       " S3Path('s3://natural-scenes-dataset/nsddata_betas/ppdata/subj01/fsaverage/betas_fithrf_GLMdenoise_RR/lh.betas_session27.mgh'),\n",
       " S3Path('s3://natural-scenes-dataset/nsddata_betas/ppdata/subj01/fsaverage/betas_fithrf_GLMdenoise_RR/lh.betas_session28.mgh'),\n",
       " S3Path('s3://natural-scenes-dataset/nsddata_betas/ppdata/subj01/fsaverage/betas_fithrf_GLMdenoise_RR/lh.betas_session29.mgh'),\n",
       " S3Path('s3://natural-scenes-dataset/nsddata_betas/ppdata/subj01/fsaverage/betas_fithrf_GLMdenoise_RR/lh.betas_session30.mgh'),\n",
       " S3Path('s3://natural-scenes-dataset/nsddata_betas/ppdata/subj01/fsaverage/betas_fithrf_GLMdenoise_RR/lh.betas_session31.mgh'),\n",
       " S3Path('s3://natural-scenes-dataset/nsddata_betas/ppdata/subj01/fsaverage/betas_fithrf_GLMdenoise_RR/lh.betas_session32.mgh'),\n",
       " S3Path('s3://natural-scenes-dataset/nsddata_betas/ppdata/subj01/fsaverage/betas_fithrf_GLMdenoise_RR/lh.betas_session33.mgh'),\n",
       " S3Path('s3://natural-scenes-dataset/nsddata_betas/ppdata/subj01/fsaverage/betas_fithrf_GLMdenoise_RR/lh.betas_session34.mgh'),\n",
       " S3Path('s3://natural-scenes-dataset/nsddata_betas/ppdata/subj01/fsaverage/betas_fithrf_GLMdenoise_RR/lh.betas_session35.mgh'),\n",
       " S3Path('s3://natural-scenes-dataset/nsddata_betas/ppdata/subj01/fsaverage/betas_fithrf_GLMdenoise_RR/lh.betas_session36.mgh'),\n",
       " S3Path('s3://natural-scenes-dataset/nsddata_betas/ppdata/subj01/fsaverage/betas_fithrf_GLMdenoise_RR/lh.betas_session37.mgh'),\n",
       " S3Path('s3://natural-scenes-dataset/nsddata_betas/ppdata/subj01/fsaverage/betas_fithrf_GLMdenoise_RR/lh.betas_session38.mgh'),\n",
       " S3Path('s3://natural-scenes-dataset/nsddata_betas/ppdata/subj01/fsaverage/betas_fithrf_GLMdenoise_RR/lh.betas_session39.mgh'),\n",
       " S3Path('s3://natural-scenes-dataset/nsddata_betas/ppdata/subj01/fsaverage/betas_fithrf_GLMdenoise_RR/lh.betas_session40.mgh'),\n",
       " S3Path('s3://natural-scenes-dataset/nsddata_betas/ppdata/subj01/fsaverage/betas_fithrf_GLMdenoise_RR/lh.ncsnr.mgh'),\n",
       " S3Path('s3://natural-scenes-dataset/nsddata_betas/ppdata/subj01/fsaverage/betas_fithrf_GLMdenoise_RR/lh.ncsnr_split1.mgh'),\n",
       " S3Path('s3://natural-scenes-dataset/nsddata_betas/ppdata/subj01/fsaverage/betas_fithrf_GLMdenoise_RR/lh.ncsnr_split2.mgh'),\n",
       " S3Path('s3://natural-scenes-dataset/nsddata_betas/ppdata/subj01/fsaverage/betas_fithrf_GLMdenoise_RR/rh.betas_session01.mgh'),\n",
       " S3Path('s3://natural-scenes-dataset/nsddata_betas/ppdata/subj01/fsaverage/betas_fithrf_GLMdenoise_RR/rh.betas_session02.mgh'),\n",
       " S3Path('s3://natural-scenes-dataset/nsddata_betas/ppdata/subj01/fsaverage/betas_fithrf_GLMdenoise_RR/rh.betas_session03.mgh'),\n",
       " S3Path('s3://natural-scenes-dataset/nsddata_betas/ppdata/subj01/fsaverage/betas_fithrf_GLMdenoise_RR/rh.betas_session04.mgh'),\n",
       " S3Path('s3://natural-scenes-dataset/nsddata_betas/ppdata/subj01/fsaverage/betas_fithrf_GLMdenoise_RR/rh.betas_session05.mgh'),\n",
       " S3Path('s3://natural-scenes-dataset/nsddata_betas/ppdata/subj01/fsaverage/betas_fithrf_GLMdenoise_RR/rh.betas_session06.mgh'),\n",
       " S3Path('s3://natural-scenes-dataset/nsddata_betas/ppdata/subj01/fsaverage/betas_fithrf_GLMdenoise_RR/rh.betas_session07.mgh'),\n",
       " S3Path('s3://natural-scenes-dataset/nsddata_betas/ppdata/subj01/fsaverage/betas_fithrf_GLMdenoise_RR/rh.betas_session08.mgh'),\n",
       " S3Path('s3://natural-scenes-dataset/nsddata_betas/ppdata/subj01/fsaverage/betas_fithrf_GLMdenoise_RR/rh.betas_session09.mgh'),\n",
       " S3Path('s3://natural-scenes-dataset/nsddata_betas/ppdata/subj01/fsaverage/betas_fithrf_GLMdenoise_RR/rh.betas_session10.mgh'),\n",
       " S3Path('s3://natural-scenes-dataset/nsddata_betas/ppdata/subj01/fsaverage/betas_fithrf_GLMdenoise_RR/rh.betas_session11.mgh'),\n",
       " S3Path('s3://natural-scenes-dataset/nsddata_betas/ppdata/subj01/fsaverage/betas_fithrf_GLMdenoise_RR/rh.betas_session12.mgh'),\n",
       " S3Path('s3://natural-scenes-dataset/nsddata_betas/ppdata/subj01/fsaverage/betas_fithrf_GLMdenoise_RR/rh.betas_session13.mgh'),\n",
       " S3Path('s3://natural-scenes-dataset/nsddata_betas/ppdata/subj01/fsaverage/betas_fithrf_GLMdenoise_RR/rh.betas_session14.mgh'),\n",
       " S3Path('s3://natural-scenes-dataset/nsddata_betas/ppdata/subj01/fsaverage/betas_fithrf_GLMdenoise_RR/rh.betas_session15.mgh'),\n",
       " S3Path('s3://natural-scenes-dataset/nsddata_betas/ppdata/subj01/fsaverage/betas_fithrf_GLMdenoise_RR/rh.betas_session16.mgh'),\n",
       " S3Path('s3://natural-scenes-dataset/nsddata_betas/ppdata/subj01/fsaverage/betas_fithrf_GLMdenoise_RR/rh.betas_session17.mgh'),\n",
       " S3Path('s3://natural-scenes-dataset/nsddata_betas/ppdata/subj01/fsaverage/betas_fithrf_GLMdenoise_RR/rh.betas_session18.mgh'),\n",
       " S3Path('s3://natural-scenes-dataset/nsddata_betas/ppdata/subj01/fsaverage/betas_fithrf_GLMdenoise_RR/rh.betas_session19.mgh'),\n",
       " S3Path('s3://natural-scenes-dataset/nsddata_betas/ppdata/subj01/fsaverage/betas_fithrf_GLMdenoise_RR/rh.betas_session20.mgh'),\n",
       " S3Path('s3://natural-scenes-dataset/nsddata_betas/ppdata/subj01/fsaverage/betas_fithrf_GLMdenoise_RR/rh.betas_session21.mgh'),\n",
       " S3Path('s3://natural-scenes-dataset/nsddata_betas/ppdata/subj01/fsaverage/betas_fithrf_GLMdenoise_RR/rh.betas_session22.mgh'),\n",
       " S3Path('s3://natural-scenes-dataset/nsddata_betas/ppdata/subj01/fsaverage/betas_fithrf_GLMdenoise_RR/rh.betas_session23.mgh'),\n",
       " S3Path('s3://natural-scenes-dataset/nsddata_betas/ppdata/subj01/fsaverage/betas_fithrf_GLMdenoise_RR/rh.betas_session24.mgh'),\n",
       " S3Path('s3://natural-scenes-dataset/nsddata_betas/ppdata/subj01/fsaverage/betas_fithrf_GLMdenoise_RR/rh.betas_session25.mgh'),\n",
       " S3Path('s3://natural-scenes-dataset/nsddata_betas/ppdata/subj01/fsaverage/betas_fithrf_GLMdenoise_RR/rh.betas_session26.mgh'),\n",
       " S3Path('s3://natural-scenes-dataset/nsddata_betas/ppdata/subj01/fsaverage/betas_fithrf_GLMdenoise_RR/rh.betas_session27.mgh'),\n",
       " S3Path('s3://natural-scenes-dataset/nsddata_betas/ppdata/subj01/fsaverage/betas_fithrf_GLMdenoise_RR/rh.betas_session28.mgh'),\n",
       " S3Path('s3://natural-scenes-dataset/nsddata_betas/ppdata/subj01/fsaverage/betas_fithrf_GLMdenoise_RR/rh.betas_session29.mgh'),\n",
       " S3Path('s3://natural-scenes-dataset/nsddata_betas/ppdata/subj01/fsaverage/betas_fithrf_GLMdenoise_RR/rh.betas_session30.mgh'),\n",
       " S3Path('s3://natural-scenes-dataset/nsddata_betas/ppdata/subj01/fsaverage/betas_fithrf_GLMdenoise_RR/rh.betas_session31.mgh'),\n",
       " S3Path('s3://natural-scenes-dataset/nsddata_betas/ppdata/subj01/fsaverage/betas_fithrf_GLMdenoise_RR/rh.betas_session32.mgh'),\n",
       " S3Path('s3://natural-scenes-dataset/nsddata_betas/ppdata/subj01/fsaverage/betas_fithrf_GLMdenoise_RR/rh.betas_session33.mgh'),\n",
       " S3Path('s3://natural-scenes-dataset/nsddata_betas/ppdata/subj01/fsaverage/betas_fithrf_GLMdenoise_RR/rh.betas_session34.mgh'),\n",
       " S3Path('s3://natural-scenes-dataset/nsddata_betas/ppdata/subj01/fsaverage/betas_fithrf_GLMdenoise_RR/rh.betas_session35.mgh'),\n",
       " S3Path('s3://natural-scenes-dataset/nsddata_betas/ppdata/subj01/fsaverage/betas_fithrf_GLMdenoise_RR/rh.betas_session36.mgh'),\n",
       " S3Path('s3://natural-scenes-dataset/nsddata_betas/ppdata/subj01/fsaverage/betas_fithrf_GLMdenoise_RR/rh.betas_session37.mgh'),\n",
       " S3Path('s3://natural-scenes-dataset/nsddata_betas/ppdata/subj01/fsaverage/betas_fithrf_GLMdenoise_RR/rh.betas_session38.mgh'),\n",
       " S3Path('s3://natural-scenes-dataset/nsddata_betas/ppdata/subj01/fsaverage/betas_fithrf_GLMdenoise_RR/rh.betas_session39.mgh'),\n",
       " S3Path('s3://natural-scenes-dataset/nsddata_betas/ppdata/subj01/fsaverage/betas_fithrf_GLMdenoise_RR/rh.betas_session40.mgh'),\n",
       " S3Path('s3://natural-scenes-dataset/nsddata_betas/ppdata/subj01/fsaverage/betas_fithrf_GLMdenoise_RR/rh.ncsnr.mgh'),\n",
       " S3Path('s3://natural-scenes-dataset/nsddata_betas/ppdata/subj01/fsaverage/betas_fithrf_GLMdenoise_RR/rh.ncsnr_split1.mgh'),\n",
       " S3Path('s3://natural-scenes-dataset/nsddata_betas/ppdata/subj01/fsaverage/betas_fithrf_GLMdenoise_RR/rh.ncsnr_split2.mgh')]"
      ]
     },
     "execution_count": 3,
     "metadata": {},
     "output_type": "execute_result"
    }
   ],
   "source": [
    "from utils import ls, crawl\n",
    "\n",
    "nsd_pppath = nsd_base_path / 'nsddata_betas' / 'ppdata'\n",
    "\n",
    "ls(nsd_pppath / 'subj01' / 'fsaverage' / 'betas_fithrf_GLMdenoise_RR')"
   ]
  },
  {
   "cell_type": "markdown",
   "id": "00419ce4-c80b-4817-bc1b-8252d07af20f",
   "metadata": {},
   "source": [
    "### Loading data in volume space (1.8mm isotropic resolution)"
   ]
  },
  {
   "cell_type": "code",
   "execution_count": 4,
   "id": "6c491ec0-3879-44d0-a88e-53d353917add",
   "metadata": {
    "tags": []
   },
   "outputs": [
    {
     "data": {
      "text/plain": [
       "[699192, 750]"
      ]
     },
     "execution_count": 4,
     "metadata": {},
     "output_type": "execute_result"
    }
   ],
   "source": [
    "vimg_filename = nsd_pppath / 'subj01' / 'func1pt8mm' / 'betas_fithrf_GLMdenoise_RR' / 'betas_session01.nii.gz'\n",
    "vimg = nib.load(vimg_filename.fspath)\n",
    "vimg = vimg.dataobj\n",
    "\n",
    "# reshape to vector of nvoxels x ntimepoints\n",
    "vimg = vimg.reshape([np.prod(vimg.shape[0:-1]),vimg.shape[-1]])\n",
    "\n",
    "vimg.shape"
   ]
  },
  {
   "cell_type": "markdown",
   "id": "804696c5-58ef-4ff6-97a9-c768a65a2b36",
   "metadata": {},
   "source": [
    "### Loading data in surface space (fsaverage space)"
   ]
  },
  {
   "cell_type": "code",
   "execution_count": 5,
   "id": "b025694e-d417-4584-a5f2-2bfceddd9aa1",
   "metadata": {
    "tags": []
   },
   "outputs": [
    {
     "data": {
      "text/plain": [
       "[163842, 750]"
      ]
     },
     "execution_count": 5,
     "metadata": {},
     "output_type": "execute_result"
    }
   ],
   "source": [
    "simg_filename = nsd_pppath / 'subj01' / 'fsaverage' / 'betas_fithrf_GLMdenoise_RR' / 'lh.betas_session01.mgh'\n",
    "simg = nib.load(simg_filename.fspath)\n",
    "simg = simg.dataobj\n",
    "\n",
    "# reshape to vector of nvoxels x ntimepoints\n",
    "simg = simg.reshape([np.prod(simg.shape[0:-1]),simg.shape[-1]])\n",
    "\n",
    "simg.shape"
   ]
  },
  {
   "cell_type": "markdown",
   "id": "63e1182f-22c3-45cf-a53d-0eea435bbcaa",
   "metadata": {},
   "source": [
    "### Loading data in surface space (native surface space)"
   ]
  },
  {
   "cell_type": "code",
   "execution_count": 66,
   "id": "52ba16f5-9e50-411b-bda3-76f862d6a659",
   "metadata": {
    "tags": []
   },
   "outputs": [
    {
     "data": {
      "text/plain": [
       "(227021,)"
      ]
     },
     "execution_count": 66,
     "metadata": {},
     "output_type": "execute_result"
    }
   ],
   "source": [
    "#ls(nsd_pppath / 'subj01' / 'nativesurface' / 'betas_fithrf_GLMdenoise_RR')\n",
    "\n",
    "beta_session1 = nsd_pppath / 'subj01' / 'nativesurface' / 'betas_fithrf_GLMdenoise_RR' / 'lh.betas_session01.hdf5'\n",
    "#227,021\n",
    "beta_session1 = h5py.File(beta_session1.fspath,'r')\n",
    "\n",
    "beta_session1=beta_session1['betas'][0] # this is just one trial\n",
    "\n",
    "beta_session1.shape"
   ]
  },
  {
   "cell_type": "markdown",
   "id": "f2733dbc-2c46-498e-af70-51a42d510cfd",
   "metadata": {},
   "source": [
    "### Visualization"
   ]
  },
  {
   "cell_type": "code",
   "execution_count": 9,
   "id": "95d4901a-b238-4a11-9be2-831741726d44",
   "metadata": {
    "tags": []
   },
   "outputs": [],
   "source": [
    "#ls(nsd_base_path / 'nsddata' / 'freesurfer' / 'subj01' / 'label')"
   ]
  },
  {
   "cell_type": "code",
   "execution_count": 17,
   "id": "c10154ce-8997-472d-a862-0fc6d232f1ec",
   "metadata": {
    "tags": []
   },
   "outputs": [],
   "source": [
    "import neuropythy as ny\n",
    "\n",
    "# Ask neuropythy to load a FreeSurfer subject:\n",
    "sub = ny.freesurfer_subject('s3://natural-scenes-dataset/nsddata/freesurfer/subj01')"
   ]
  },
  {
   "cell_type": "code",
   "execution_count": 84,
   "id": "481ca7c4-821f-4211-812c-4964fc58d61b",
   "metadata": {
    "tags": []
   },
   "outputs": [
    {
     "data": {
      "text/plain": [
       "['BA1_label',\n",
       " 'BA1_weight',\n",
       " 'BA2_label',\n",
       " 'BA2_weight',\n",
       " 'BA3a_label',\n",
       " 'BA3a_weight',\n",
       " 'BA3b_label',\n",
       " 'BA3b_weight',\n",
       " 'BA44_label',\n",
       " 'BA44_weight',\n",
       " 'BA45_label',\n",
       " 'BA45_weight',\n",
       " 'BA4a_label',\n",
       " 'BA4a_weight',\n",
       " 'BA4p_label',\n",
       " 'BA4p_weight',\n",
       " 'BA6_label',\n",
       " 'BA6_weight',\n",
       " 'DKT40_parcellation',\n",
       " 'Desikan06_parcellation',\n",
       " 'Destrieux09_parcellation',\n",
       " 'MT_label',\n",
       " 'MT_weight',\n",
       " 'V1_label',\n",
       " 'V1_weight',\n",
       " 'V2_label',\n",
       " 'V2_weight',\n",
       " 'atlas_curvature',\n",
       " 'brodmann_area',\n",
       " 'brodmann_area_wide',\n",
       " 'convexity',\n",
       " 'cortex_label',\n",
       " 'curvature',\n",
       " 'entorhinal_label',\n",
       " 'entorhinal_weight',\n",
       " 'index',\n",
       " 'jacobian_norm',\n",
       " 'label',\n",
       " 'midgray_surface_area',\n",
       " 'parcellation',\n",
       " 'perirhinal_label',\n",
       " 'perirhinal_weight',\n",
       " 'pial_curvature',\n",
       " 'pial_surface_area',\n",
       " 'surface_area',\n",
       " 'thickness',\n",
       " 'white_curvature',\n",
       " 'white_surface_area']"
      ]
     },
     "execution_count": 84,
     "metadata": {},
     "output_type": "execute_result"
    }
   ],
   "source": [
    "sorted(sub.lh.properties.keys())"
   ]
  },
  {
   "cell_type": "code",
   "execution_count": 19,
   "id": "b96de559-b8ec-437e-85ac-1fa4da14fb58",
   "metadata": {
    "tags": []
   },
   "outputs": [
    {
     "data": {
      "application/vnd.jupyter.widget-view+json": {
       "model_id": "57e13aa25f7a45e28a4f5e00b3eb57be",
       "version_major": 2,
       "version_minor": 0
      },
      "text/plain": [
       "Figure(box_center=[0.5, 0.5, 0.5], box_size=[1.0, 1.0, 1.0], camera=PerspectiveCamera(fov=0.644570721372708, p…"
      ]
     },
     "execution_count": 19,
     "metadata": {},
     "output_type": "execute_result"
    }
   ],
   "source": [
    "ny.cortex_plot(sub.lh, surface='inflated', color=beta_session1)\n"
   ]
  },
  {
   "cell_type": "markdown",
   "id": "6dc2f4fb-0330-4809-b3f2-bc306fd053d9",
   "metadata": {},
   "source": [
    "### Masking with visual ROIs"
   ]
  },
  {
   "cell_type": "code",
   "execution_count": 95,
   "id": "0d3134ee-22df-4f48-9cb3-19717aef3993",
   "metadata": {
    "tags": []
   },
   "outputs": [
    {
     "data": {
      "text/plain": [
       "True"
      ]
     },
     "execution_count": 95,
     "metadata": {},
     "output_type": "execute_result"
    }
   ],
   "source": [
    "beta_session1.shape == sub.lh.prop('V1_label').shape"
   ]
  },
  {
   "cell_type": "code",
   "execution_count": 118,
   "id": "0fc559d4-bd9d-424e-ab79-3e33e1c84e1c",
   "metadata": {
    "tags": []
   },
   "outputs": [],
   "source": [
    "LO = sub.lh.prop('Desikan06_parcellation')\n",
    "LO = (LO == 11) | (LO == 13) | (LO == 21)"
   ]
  },
  {
   "cell_type": "code",
   "execution_count": 119,
   "id": "85e58c26-331b-44f1-a605-9d0ed704ac98",
   "metadata": {
    "tags": []
   },
   "outputs": [
    {
     "data": {
      "text/plain": [
       "(26664,)"
      ]
     },
     "execution_count": 119,
     "metadata": {},
     "output_type": "execute_result"
    }
   ],
   "source": [
    "#masked_beta1 = beta_session1[sub.lh.prop('V1_label')]\n",
    "masked_beta1 = beta_session1[LO]\n",
    "masked_beta1.shape"
   ]
  },
  {
   "cell_type": "code",
   "execution_count": 120,
   "id": "c00ca7bb-88ea-44de-a95f-5b3eaffceb5e",
   "metadata": {
    "tags": []
   },
   "outputs": [
    {
     "data": {
      "application/vnd.jupyter.widget-view+json": {
       "model_id": "3b408caa7ae740858f2ba408609d2779",
       "version_major": 2,
       "version_minor": 0
      },
      "text/plain": [
       "Figure(box_center=[0.5, 0.5, 0.5], box_size=[1.0, 1.0, 1.0], camera=PerspectiveCamera(fov=0.644570721372708, p…"
      ]
     },
     "execution_count": 120,
     "metadata": {},
     "output_type": "execute_result"
    }
   ],
   "source": [
    "ny.cortex_plot(sub.lh, surface='inflated', color=beta_session1, mask=LO)\n"
   ]
  },
  {
   "cell_type": "markdown",
   "id": "c2c86053-95da-40df-aaa4-80160219470d",
   "metadata": {},
   "source": [
    "### Dataframe setup"
   ]
  },
  {
   "cell_type": "markdown",
   "id": "7196d555-2eca-4a2b-ae85-7aaf9f2d74c7",
   "metadata": {},
   "source": [
    "useful variables"
   ]
  },
  {
   "cell_type": "code",
   "execution_count": 75,
   "id": "a8dca7e7-e76e-46b1-a88b-ca1e6885c525",
   "metadata": {
    "tags": []
   },
   "outputs": [],
   "source": [
    "n_sub = 8           # nr of subjects\n",
    "n_sess = 8          # nr of sessions per subject\n",
    "n_trial = 750       # nr of trials per session\n",
    "\n",
    "sub_list =  [str(x) for x in np.arange(1,n_sub+1).tolist()]\n",
    "sess_list = [str(x) for x in np.arange(1,n_sess+1).tolist()]\n",
    "hem_list = ['lh','rh']"
   ]
  },
  {
   "cell_type": "markdown",
   "id": "b990c8a2-9293-4f6c-a1a5-704f28b1a186",
   "metadata": {},
   "source": [
    "read betas and ROI masks "
   ]
  },
  {
   "cell_type": "code",
   "execution_count": 126,
   "id": "ba1c6caa-9019-4754-b33d-d3613cd4eb7a",
   "metadata": {
    "tags": []
   },
   "outputs": [],
   "source": [
    "def get_betas(sub_id,hem_id,sess_id,trial_nr):\n",
    "    betas = nsd_pppath / ('subj0'+sub_list[sub_id]) / 'nativesurface' / 'betas_fithrf_GLMdenoise_RR' / (hem_list[hem_id]+'.betas_session0'+sess_list[sess_id]+'.hdf5')\n",
    "    betas = h5py.File(betas.fspath,'r')\n",
    "    betas = betas['betas'][trial_nr]\n",
    "    \n",
    "    \n",
    "    mask = get_visual_mask(sub_id,hem_id)\n",
    "    masked_betas = betas[mask]\n",
    "    \n",
    "    return betas, masked_betas\n",
    "\n",
    "def get_visual_mask(sub_id,hem_id):\n",
    "    sub = ny.freesurfer_subject('s3://natural-scenes-dataset/nsddata/freesurfer/subj0'+sub_list[sub_id])\n",
    "    \n",
    "    if hem_id == 0:\n",
    "        desikan = sub.lh.prop('Desikan06_parcellation')\n",
    "        mask = (desikan == 11) | (desikan == 13) | (desikan == 21)\n",
    "    elif hem_id == 1:\n",
    "        desikan = sub.rh.prop('Desikan06_parcellation')\n",
    "        mask = (desikan == 11) | (desikan == 13) | (desikan == 21)\n",
    "        \n",
    "    return mask"
   ]
  },
  {
   "cell_type": "code",
   "execution_count": 127,
   "id": "f4be7a64-7fe1-4f5b-984c-9e5294d312f3",
   "metadata": {
    "tags": []
   },
   "outputs": [],
   "source": [
    "sub_id = 0 \n",
    "sess_id = 0\n",
    "hem_id = 0 \n",
    "trial_nr = 0 \n",
    "\n",
    "betas, masked_betas = get_betas(sub_id,hem_id,sess_id,trial_nr)"
   ]
  },
  {
   "cell_type": "code",
   "execution_count": null,
   "id": "a83de734-dabf-401b-901b-b4e3402d628b",
   "metadata": {},
   "outputs": [],
   "source": [
    "if hem_id == 0\n",
    "    masked_betas = betas[sub.lh.prop('V1_label')]\n",
    "elif hem_id == 1\n",
    "    masked_betas = betas[sub.rh.prop('V1_label')]"
   ]
  },
  {
   "cell_type": "code",
   "execution_count": null,
   "id": "ab43d962-548f-458f-9504-d5718ad8bad0",
   "metadata": {},
   "outputs": [],
   "source": []
  },
  {
   "cell_type": "code",
   "execution_count": null,
   "id": "b201ed49-9a3d-498e-b098-4a63348f3e5e",
   "metadata": {},
   "outputs": [],
   "source": []
  },
  {
   "cell_type": "code",
   "execution_count": null,
   "id": "7b58e779-b36d-40f0-94b3-585ab627dabd",
   "metadata": {},
   "outputs": [],
   "source": []
  },
  {
   "cell_type": "code",
   "execution_count": 42,
   "id": "8d6443ba-6364-41d3-b5a5-522f1d889fcf",
   "metadata": {
    "tags": []
   },
   "outputs": [
    {
     "data": {
      "text/html": [
       "<div>\n",
       "<style scoped>\n",
       "    .dataframe tbody tr th:only-of-type {\n",
       "        vertical-align: middle;\n",
       "    }\n",
       "\n",
       "    .dataframe tbody tr th {\n",
       "        vertical-align: top;\n",
       "    }\n",
       "\n",
       "    .dataframe thead th {\n",
       "        text-align: right;\n",
       "    }\n",
       "</style>\n",
       "<table border=\"1\" class=\"dataframe\">\n",
       "  <thead>\n",
       "    <tr style=\"text-align: right;\">\n",
       "      <th></th>\n",
       "      <th>SUBJECT</th>\n",
       "      <th>SESSION</th>\n",
       "      <th>RUN</th>\n",
       "      <th>TRIAL</th>\n",
       "      <th>73KID</th>\n",
       "      <th>10KID</th>\n",
       "      <th>TIME</th>\n",
       "      <th>ISOLD</th>\n",
       "      <th>ISCORRECT</th>\n",
       "      <th>RT</th>\n",
       "      <th>CHANGEMIND</th>\n",
       "      <th>MEMORYRECENT</th>\n",
       "      <th>MEMORYFIRST</th>\n",
       "      <th>ISOLDCURRENT</th>\n",
       "      <th>ISCORRECTCURRENT</th>\n",
       "      <th>TOTAL1</th>\n",
       "      <th>TOTAL2</th>\n",
       "      <th>BUTTON</th>\n",
       "      <th>MISSINGDATA</th>\n",
       "    </tr>\n",
       "  </thead>\n",
       "  <tbody>\n",
       "    <tr>\n",
       "      <th>0</th>\n",
       "      <td>1</td>\n",
       "      <td>1</td>\n",
       "      <td>1</td>\n",
       "      <td>1</td>\n",
       "      <td>46003</td>\n",
       "      <td>626</td>\n",
       "      <td>0.505082</td>\n",
       "      <td>0</td>\n",
       "      <td>1.0</td>\n",
       "      <td>803.529781</td>\n",
       "      <td>0.0</td>\n",
       "      <td>NaN</td>\n",
       "      <td>NaN</td>\n",
       "      <td>0</td>\n",
       "      <td>1.0</td>\n",
       "      <td>1</td>\n",
       "      <td>0</td>\n",
       "      <td>1.0</td>\n",
       "      <td>0</td>\n",
       "    </tr>\n",
       "    <tr>\n",
       "      <th>1</th>\n",
       "      <td>1</td>\n",
       "      <td>1</td>\n",
       "      <td>1</td>\n",
       "      <td>2</td>\n",
       "      <td>61883</td>\n",
       "      <td>5013</td>\n",
       "      <td>0.505128</td>\n",
       "      <td>0</td>\n",
       "      <td>1.0</td>\n",
       "      <td>972.261383</td>\n",
       "      <td>0.0</td>\n",
       "      <td>NaN</td>\n",
       "      <td>NaN</td>\n",
       "      <td>0</td>\n",
       "      <td>1.0</td>\n",
       "      <td>1</td>\n",
       "      <td>0</td>\n",
       "      <td>1.0</td>\n",
       "      <td>0</td>\n",
       "    </tr>\n",
       "    <tr>\n",
       "      <th>2</th>\n",
       "      <td>1</td>\n",
       "      <td>1</td>\n",
       "      <td>1</td>\n",
       "      <td>3</td>\n",
       "      <td>829</td>\n",
       "      <td>4850</td>\n",
       "      <td>0.505175</td>\n",
       "      <td>0</td>\n",
       "      <td>1.0</td>\n",
       "      <td>742.351236</td>\n",
       "      <td>0.0</td>\n",
       "      <td>NaN</td>\n",
       "      <td>NaN</td>\n",
       "      <td>0</td>\n",
       "      <td>1.0</td>\n",
       "      <td>1</td>\n",
       "      <td>0</td>\n",
       "      <td>1.0</td>\n",
       "      <td>0</td>\n",
       "    </tr>\n",
       "    <tr>\n",
       "      <th>3</th>\n",
       "      <td>1</td>\n",
       "      <td>1</td>\n",
       "      <td>1</td>\n",
       "      <td>4</td>\n",
       "      <td>67574</td>\n",
       "      <td>8823</td>\n",
       "      <td>0.505221</td>\n",
       "      <td>0</td>\n",
       "      <td>1.0</td>\n",
       "      <td>747.518479</td>\n",
       "      <td>0.0</td>\n",
       "      <td>NaN</td>\n",
       "      <td>NaN</td>\n",
       "      <td>0</td>\n",
       "      <td>1.0</td>\n",
       "      <td>1</td>\n",
       "      <td>0</td>\n",
       "      <td>1.0</td>\n",
       "      <td>0</td>\n",
       "    </tr>\n",
       "    <tr>\n",
       "      <th>4</th>\n",
       "      <td>1</td>\n",
       "      <td>1</td>\n",
       "      <td>1</td>\n",
       "      <td>5</td>\n",
       "      <td>16021</td>\n",
       "      <td>9538</td>\n",
       "      <td>0.505267</td>\n",
       "      <td>0</td>\n",
       "      <td>1.0</td>\n",
       "      <td>547.422774</td>\n",
       "      <td>0.0</td>\n",
       "      <td>NaN</td>\n",
       "      <td>NaN</td>\n",
       "      <td>0</td>\n",
       "      <td>1.0</td>\n",
       "      <td>1</td>\n",
       "      <td>0</td>\n",
       "      <td>1.0</td>\n",
       "      <td>0</td>\n",
       "    </tr>\n",
       "    <tr>\n",
       "      <th>...</th>\n",
       "      <td>...</td>\n",
       "      <td>...</td>\n",
       "      <td>...</td>\n",
       "      <td>...</td>\n",
       "      <td>...</td>\n",
       "      <td>...</td>\n",
       "      <td>...</td>\n",
       "      <td>...</td>\n",
       "      <td>...</td>\n",
       "      <td>...</td>\n",
       "      <td>...</td>\n",
       "      <td>...</td>\n",
       "      <td>...</td>\n",
       "      <td>...</td>\n",
       "      <td>...</td>\n",
       "      <td>...</td>\n",
       "      <td>...</td>\n",
       "      <td>...</td>\n",
       "      <td>...</td>\n",
       "    </tr>\n",
       "    <tr>\n",
       "      <th>29995</th>\n",
       "      <td>1</td>\n",
       "      <td>40</td>\n",
       "      <td>12</td>\n",
       "      <td>58</td>\n",
       "      <td>13774</td>\n",
       "      <td>8984</td>\n",
       "      <td>262.629551</td>\n",
       "      <td>1</td>\n",
       "      <td>0.0</td>\n",
       "      <td>1275.300175</td>\n",
       "      <td>0.0</td>\n",
       "      <td>20963.0</td>\n",
       "      <td>21540.0</td>\n",
       "      <td>0</td>\n",
       "      <td>1.0</td>\n",
       "      <td>1</td>\n",
       "      <td>0</td>\n",
       "      <td>1.0</td>\n",
       "      <td>0</td>\n",
       "    </tr>\n",
       "    <tr>\n",
       "      <th>29996</th>\n",
       "      <td>1</td>\n",
       "      <td>40</td>\n",
       "      <td>12</td>\n",
       "      <td>59</td>\n",
       "      <td>66768</td>\n",
       "      <td>6026</td>\n",
       "      <td>262.629597</td>\n",
       "      <td>1</td>\n",
       "      <td>1.0</td>\n",
       "      <td>661.379768</td>\n",
       "      <td>0.0</td>\n",
       "      <td>16.0</td>\n",
       "      <td>17622.0</td>\n",
       "      <td>1</td>\n",
       "      <td>1.0</td>\n",
       "      <td>0</td>\n",
       "      <td>1</td>\n",
       "      <td>2.0</td>\n",
       "      <td>0</td>\n",
       "    </tr>\n",
       "    <tr>\n",
       "      <th>29997</th>\n",
       "      <td>1</td>\n",
       "      <td>40</td>\n",
       "      <td>12</td>\n",
       "      <td>60</td>\n",
       "      <td>53168</td>\n",
       "      <td>4841</td>\n",
       "      <td>262.629644</td>\n",
       "      <td>1</td>\n",
       "      <td>1.0</td>\n",
       "      <td>786.811781</td>\n",
       "      <td>0.0</td>\n",
       "      <td>9483.0</td>\n",
       "      <td>11912.0</td>\n",
       "      <td>0</td>\n",
       "      <td>0.0</td>\n",
       "      <td>0</td>\n",
       "      <td>1</td>\n",
       "      <td>2.0</td>\n",
       "      <td>0</td>\n",
       "    </tr>\n",
       "    <tr>\n",
       "      <th>29998</th>\n",
       "      <td>1</td>\n",
       "      <td>40</td>\n",
       "      <td>12</td>\n",
       "      <td>61</td>\n",
       "      <td>1944</td>\n",
       "      <td>7323</td>\n",
       "      <td>262.629690</td>\n",
       "      <td>1</td>\n",
       "      <td>1.0</td>\n",
       "      <td>502.626801</td>\n",
       "      <td>0.0</td>\n",
       "      <td>83.0</td>\n",
       "      <td>12162.0</td>\n",
       "      <td>1</td>\n",
       "      <td>1.0</td>\n",
       "      <td>0</td>\n",
       "      <td>1</td>\n",
       "      <td>2.0</td>\n",
       "      <td>0</td>\n",
       "    </tr>\n",
       "    <tr>\n",
       "      <th>29999</th>\n",
       "      <td>1</td>\n",
       "      <td>40</td>\n",
       "      <td>12</td>\n",
       "      <td>62</td>\n",
       "      <td>5034</td>\n",
       "      <td>9972</td>\n",
       "      <td>262.629736</td>\n",
       "      <td>1</td>\n",
       "      <td>0.0</td>\n",
       "      <td>883.122362</td>\n",
       "      <td>0.0</td>\n",
       "      <td>28968.0</td>\n",
       "      <td>29798.0</td>\n",
       "      <td>0</td>\n",
       "      <td>1.0</td>\n",
       "      <td>1</td>\n",
       "      <td>0</td>\n",
       "      <td>1.0</td>\n",
       "      <td>0</td>\n",
       "    </tr>\n",
       "  </tbody>\n",
       "</table>\n",
       "<p>30000 rows × 19 columns</p>\n",
       "</div>"
      ],
      "text/plain": [
       "       SUBJECT  SESSION  RUN  TRIAL  73KID  10KID        TIME  ISOLD  \\\n",
       "0            1        1    1      1  46003    626    0.505082      0   \n",
       "1            1        1    1      2  61883   5013    0.505128      0   \n",
       "2            1        1    1      3    829   4850    0.505175      0   \n",
       "3            1        1    1      4  67574   8823    0.505221      0   \n",
       "4            1        1    1      5  16021   9538    0.505267      0   \n",
       "...        ...      ...  ...    ...    ...    ...         ...    ...   \n",
       "29995        1       40   12     58  13774   8984  262.629551      1   \n",
       "29996        1       40   12     59  66768   6026  262.629597      1   \n",
       "29997        1       40   12     60  53168   4841  262.629644      1   \n",
       "29998        1       40   12     61   1944   7323  262.629690      1   \n",
       "29999        1       40   12     62   5034   9972  262.629736      1   \n",
       "\n",
       "       ISCORRECT           RT  CHANGEMIND  MEMORYRECENT  MEMORYFIRST  \\\n",
       "0            1.0   803.529781         0.0           NaN          NaN   \n",
       "1            1.0   972.261383         0.0           NaN          NaN   \n",
       "2            1.0   742.351236         0.0           NaN          NaN   \n",
       "3            1.0   747.518479         0.0           NaN          NaN   \n",
       "4            1.0   547.422774         0.0           NaN          NaN   \n",
       "...          ...          ...         ...           ...          ...   \n",
       "29995        0.0  1275.300175         0.0       20963.0      21540.0   \n",
       "29996        1.0   661.379768         0.0          16.0      17622.0   \n",
       "29997        1.0   786.811781         0.0        9483.0      11912.0   \n",
       "29998        1.0   502.626801         0.0          83.0      12162.0   \n",
       "29999        0.0   883.122362         0.0       28968.0      29798.0   \n",
       "\n",
       "       ISOLDCURRENT  ISCORRECTCURRENT  TOTAL1  TOTAL2  BUTTON  MISSINGDATA  \n",
       "0                 0               1.0       1       0     1.0            0  \n",
       "1                 0               1.0       1       0     1.0            0  \n",
       "2                 0               1.0       1       0     1.0            0  \n",
       "3                 0               1.0       1       0     1.0            0  \n",
       "4                 0               1.0       1       0     1.0            0  \n",
       "...             ...               ...     ...     ...     ...          ...  \n",
       "29995             0               1.0       1       0     1.0            0  \n",
       "29996             1               1.0       0       1     2.0            0  \n",
       "29997             0               0.0       0       1     2.0            0  \n",
       "29998             1               1.0       0       1     2.0            0  \n",
       "29999             0               1.0       1       0     1.0            0  \n",
       "\n",
       "[30000 rows x 19 columns]"
      ]
     },
     "execution_count": 42,
     "metadata": {},
     "output_type": "execute_result"
    }
   ],
   "source": [
    "stimdata_s1 = nsd_base_path / 'nsddata' / 'ppdata' / 'subj01' / 'behav' / 'responses.tsv'\n",
    "#ls(stimdata_s1)\n",
    "expdata = pd.read_table(stimdata_s1)\n",
    "expdata"
   ]
  },
  {
   "cell_type": "code",
   "execution_count": 44,
   "id": "8e9c4a02-99f8-4aa7-9021-1fffbc7bfea7",
   "metadata": {
    "tags": []
   },
   "outputs": [
    {
     "data": {
      "text/html": [
       "<div>\n",
       "<style scoped>\n",
       "    .dataframe tbody tr th:only-of-type {\n",
       "        vertical-align: middle;\n",
       "    }\n",
       "\n",
       "    .dataframe tbody tr th {\n",
       "        vertical-align: top;\n",
       "    }\n",
       "\n",
       "    .dataframe thead th {\n",
       "        text-align: right;\n",
       "    }\n",
       "</style>\n",
       "<table border=\"1\" class=\"dataframe\">\n",
       "  <thead>\n",
       "    <tr style=\"text-align: right;\">\n",
       "      <th></th>\n",
       "      <th>SUBJECT</th>\n",
       "      <th>SESSION</th>\n",
       "      <th>RUN</th>\n",
       "      <th>TRIAL</th>\n",
       "      <th>73KID</th>\n",
       "    </tr>\n",
       "  </thead>\n",
       "  <tbody>\n",
       "    <tr>\n",
       "      <th>0</th>\n",
       "      <td>1</td>\n",
       "      <td>1</td>\n",
       "      <td>1</td>\n",
       "      <td>1</td>\n",
       "      <td>46003</td>\n",
       "    </tr>\n",
       "    <tr>\n",
       "      <th>1</th>\n",
       "      <td>1</td>\n",
       "      <td>1</td>\n",
       "      <td>1</td>\n",
       "      <td>2</td>\n",
       "      <td>61883</td>\n",
       "    </tr>\n",
       "    <tr>\n",
       "      <th>2</th>\n",
       "      <td>1</td>\n",
       "      <td>1</td>\n",
       "      <td>1</td>\n",
       "      <td>3</td>\n",
       "      <td>829</td>\n",
       "    </tr>\n",
       "    <tr>\n",
       "      <th>3</th>\n",
       "      <td>1</td>\n",
       "      <td>1</td>\n",
       "      <td>1</td>\n",
       "      <td>4</td>\n",
       "      <td>67574</td>\n",
       "    </tr>\n",
       "    <tr>\n",
       "      <th>4</th>\n",
       "      <td>1</td>\n",
       "      <td>1</td>\n",
       "      <td>1</td>\n",
       "      <td>5</td>\n",
       "      <td>16021</td>\n",
       "    </tr>\n",
       "  </tbody>\n",
       "</table>\n",
       "</div>"
      ],
      "text/plain": [
       "   SUBJECT  SESSION  RUN  TRIAL  73KID\n",
       "0        1        1    1      1  46003\n",
       "1        1        1    1      2  61883\n",
       "2        1        1    1      3    829\n",
       "3        1        1    1      4  67574\n",
       "4        1        1    1      5  16021"
      ]
     },
     "execution_count": 44,
     "metadata": {},
     "output_type": "execute_result"
    }
   ],
   "source": [
    "sub_df = expdata[[\"SUBJECT\",\"SESSION\",\"RUN\",\"TRIAL\",\"73KID\"]]\n",
    "sub_df.head()"
   ]
  },
  {
   "cell_type": "code",
   "execution_count": 48,
   "id": "237946b2-4e11-455c-9da8-1e552a630b1e",
   "metadata": {
    "tags": []
   },
   "outputs": [
    {
     "data": {
      "text/plain": [
       "14"
      ]
     },
     "execution_count": 48,
     "metadata": {},
     "output_type": "execute_result"
    }
   ],
   "source": [
    "min(sub_df['73KID'])"
   ]
  },
  {
   "cell_type": "code",
   "execution_count": null,
   "id": "a6dd5446-4160-40c9-9eea-d0d948ef2c2c",
   "metadata": {},
   "outputs": [],
   "source": []
  }
 ],
 "metadata": {
  "kernelspec": {
   "display_name": "Python 3 (ipykernel)",
   "language": "python",
   "name": "python3"
  },
  "language_info": {
   "codemirror_mode": {
    "name": "ipython",
    "version": 3
   },
   "file_extension": ".py",
   "mimetype": "text/x-python",
   "name": "python",
   "nbconvert_exporter": "python",
   "pygments_lexer": "ipython3",
   "version": "3.10.11"
  }
 },
 "nbformat": 4,
 "nbformat_minor": 5
}
